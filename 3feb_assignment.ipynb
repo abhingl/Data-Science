{
 "cells": [
  {
   "cell_type": "markdown",
   "id": "ba5c40df-fa22-40ee-9b99-b4ea31944c68",
   "metadata": {},
   "source": [
    "Q1. Which keyword is used to create a function? Create a function to return a list of odd numbers in the\n",
    "range of 1 to 25"
   ]
  },
  {
   "cell_type": "code",
   "execution_count": 1,
   "id": "0bce8455-3961-493e-88f5-90cf24e9d7aa",
   "metadata": {},
   "outputs": [
    {
     "data": {
      "text/plain": [
       "[1, 3, 5, 7, 9, 11, 13, 15, 17, 19, 21, 23, 25]"
      ]
     },
     "execution_count": 1,
     "metadata": {},
     "output_type": "execute_result"
    }
   ],
   "source": [
    "# 'def' keyword is used to create a function in python \n",
    "# function to return a list of odd numbers in the range of 1 to 25\n",
    "\n",
    "def odd() :\n",
    "    return list(range(1,26,2))\n",
    "odd()"
   ]
  },
  {
   "cell_type": "markdown",
   "id": "b92e6d9f-fb6c-4ef3-b827-f42861ea8826",
   "metadata": {},
   "source": [
    "Q2. Why *args and **kwargs is used in some functions? Create a function each for *args and **kwargs\n",
    "to demonstrate their use."
   ]
  },
  {
   "cell_type": "markdown",
   "id": "470a4830-cea8-4e74-bebb-36a8f446de13",
   "metadata": {},
   "source": [
    "Ans. \n",
    " *args\n",
    "in python,*args is used in function defination to pass 'n' or variable number of arguments to a function\n",
    "\n",
    "With *args, any number of extra arguments can be stored on to your current formal parameters\n",
    "\n",
    "Using the *, the variable that we use with the * becomes an iterable\n",
    "\n",
    " **kwargs\n",
    "\n",
    "in python,**kwargs is used in function defination to pass\n",
    "aarguments in the form of 'key'and 'value' pair and stores them as a dictionary data type\n",
    "\n",
    "the double star\"**\" allows us to pass through keyword arguments\n",
    "\n",
    "\n",
    "'args' and 'kwargs' are not predefined keywords,but we use them for common understanding "
   ]
  },
  {
   "cell_type": "code",
   "execution_count": 2,
   "id": "68c9fbc0-1057-4e89-a118-4b4436bba0a2",
   "metadata": {},
   "outputs": [
    {
     "data": {
      "text/plain": [
       "(45, 7, 8.6, 'abhi', [3, 89, 78])"
      ]
     },
     "execution_count": 2,
     "metadata": {},
     "output_type": "execute_result"
    }
   ],
   "source": [
    "#Q2. Example for *args\n",
    "\n",
    "def arg(*args) :\n",
    "    return args\n",
    "arg(45,7,8.6,'abhi',[3,89,78])"
   ]
  },
  {
   "cell_type": "code",
   "execution_count": 3,
   "id": "dff36173-2650-4f38-84a1-2b8bb339c373",
   "metadata": {},
   "outputs": [
    {
     "data": {
      "text/plain": [
       "{'a': 'agra', 'b': 'bombay', 'c': 'calcutta', 'd': 'delhi'}"
      ]
     },
     "execution_count": 3,
     "metadata": {},
     "output_type": "execute_result"
    }
   ],
   "source": [
    "#Q2 Example for **kwargs\n",
    "\n",
    "def example_kw(**kwargs) :\n",
    "    return kwargs\n",
    "example_kw(a='agra',b='bombay',c='calcutta',d='delhi')"
   ]
  },
  {
   "cell_type": "markdown",
   "id": "cc7a230e-230f-49ba-99ea-beb679fbeb76",
   "metadata": {},
   "source": [
    "Q3.  What is an iterator in python? Name the method used to initialise the iterator object and the method\n",
    "used for iteration. Use these methods to print the first five elements of the given list [2, 4, 6, 8, 10, 12, 14,\n",
    "16, 18, 20]."
   ]
  },
  {
   "cell_type": "code",
   "execution_count": 4,
   "id": "9b6572b0-2177-43c4-a9d8-ec7ce4d103a1",
   "metadata": {},
   "outputs": [
    {
     "name": "stdout",
     "output_type": "stream",
     "text": [
      "2\n",
      "4\n",
      "6\n",
      "8\n",
      "10\n"
     ]
    }
   ],
   "source": [
    "#Q3\n",
    "# Iterator in Python is an object that is used to iterate(go through again and again) over iterable objects\n",
    "# like lists, tuples, dicts, and sets.\n",
    "# The iterator object is initialized using the iter() method.\n",
    "# It uses the next() method for iteration.\n",
    "\n",
    "#Example\n",
    "l = list(range(2,21,2))\n",
    "l1 = iter(l)\n",
    "for i in range(5):\n",
    "    print(next(l1))\n"
   ]
  },
  {
   "cell_type": "markdown",
   "id": "45d5d2b9-1a6f-4502-a969-63d9cf2beef5",
   "metadata": {},
   "source": [
    "Q4.  What is a generator function in python? Why yield keyword is used? Give an example of a generator\n",
    "function"
   ]
  },
  {
   "cell_type": "markdown",
   "id": "567434fc-f224-4b0f-8fc7-63f8359b9ddf",
   "metadata": {},
   "source": [
    "Ans 4\n",
    "\n",
    "A generator-function is defined like a normal function, \n",
    "\n",
    "but whenever it needs to generate a value, it does so with the yield keyword rather than return. \n",
    "\n",
    "If the body of a function contains yield, the function automatically becomes a generator function\n",
    "\n",
    "Python's generator functions are used to create iterators(which can be traversed like list, tuple) and return a traversal object. \n",
    "\n",
    "It helps to transverse all the items one at a time present in the iterator.\n",
    "\n",
    "the basic diff between a normal function and a generator function is that \n",
    "\n",
    "a normal function is executed is executed completely at once and return the value\n",
    "\n",
    "whereas in generator function;After returning the value from yield, it pauses the execution by saving the states.\n",
    "which results in better memory optimisation\n",
    "\n",
    "\n"
   ]
  },
  {
   "cell_type": "code",
   "execution_count": 8,
   "id": "dd7ad804-1f64-4023-bb9d-d9ab73fb3ef7",
   "metadata": {},
   "outputs": [],
   "source": [
    "#example of generator function\n",
    "def table(t) :\n",
    "    for i in range(1,11):\n",
    "        mul = i * t\n",
    "        yield mul\n",
    "        "
   ]
  },
  {
   "cell_type": "code",
   "execution_count": 9,
   "id": "db9c4b7d-1f08-416c-a1da-74ba80ee9aad",
   "metadata": {},
   "outputs": [
    {
     "name": "stdout",
     "output_type": "stream",
     "text": [
      "9\n",
      "18\n",
      "27\n",
      "36\n",
      "45\n",
      "54\n",
      "63\n",
      "72\n",
      "81\n",
      "90\n"
     ]
    }
   ],
   "source": [
    "for i in table(9) :\n",
    "    print(i)"
   ]
  },
  {
   "cell_type": "markdown",
   "id": "b2d5c6dc-4d5e-4111-8acc-575c41c29b8b",
   "metadata": {},
   "source": [
    "Q5. Create a generator function for prime numbers less than 1000. Use the next() method to print the\n",
    "first 20 prime numbers."
   ]
  },
  {
   "cell_type": "code",
   "execution_count": 10,
   "id": "588e82a0-c3e0-4c3f-a7c5-bf4ef2387250",
   "metadata": {},
   "outputs": [
    {
     "name": "stdout",
     "output_type": "stream",
     "text": [
      "2\n",
      "3\n",
      "5\n",
      "7\n",
      "11\n",
      "13\n",
      "17\n",
      "19\n",
      "23\n",
      "29\n",
      "31\n",
      "37\n",
      "41\n",
      "43\n",
      "47\n",
      "53\n",
      "59\n",
      "61\n",
      "67\n",
      "71\n"
     ]
    }
   ],
   "source": [
    "def prime() :\n",
    "    prime =[]\n",
    "    for i in range(2,1000):\n",
    "        for j in range(2,i):\n",
    "            if i % j == 0:\n",
    "                break\n",
    "        else :\n",
    "            prime.append(i)\n",
    "            yield i\n",
    "p_list = prime()\n",
    "for i in range(20):\n",
    "    print(next(p_list))"
   ]
  },
  {
   "cell_type": "markdown",
   "id": "e5a5622f-2638-4b93-b520-37816514609c",
   "metadata": {},
   "source": [
    "Q6. Write a python program to print the first 10 Fibonacci numbers using a while loop."
   ]
  },
  {
   "cell_type": "code",
   "execution_count": 11,
   "id": "ca95e984-1e1e-4648-9d4d-2b19246d6ba1",
   "metadata": {},
   "outputs": [
    {
     "name": "stdout",
     "output_type": "stream",
     "text": [
      "0\n",
      "1\n",
      "1\n",
      "2\n",
      "3\n",
      "5\n",
      "8\n",
      "13\n",
      "21\n",
      "34\n"
     ]
    }
   ],
   "source": [
    "num = 10\n",
    "a=0\n",
    "b=1\n",
    "count =1\n",
    "while count<=num :\n",
    "    print(a)\n",
    "    c=a+b\n",
    "    a=b\n",
    "    b=c\n",
    "    count = count+1"
   ]
  },
  {
   "cell_type": "markdown",
   "id": "33355d14-694e-42e1-9ebd-7e5a1f59cf38",
   "metadata": {},
   "source": [
    "Q7. Write a List Comprehension to iterate through the given string: ‘pwskills’.\n",
    "\n",
    "Expected output: ['p', 'w', 's', 'k', 'i', 'l', 'l', 's'] "
   ]
  },
  {
   "cell_type": "code",
   "execution_count": 12,
   "id": "484f9dd7-3883-4fc2-8787-d5d3977908c0",
   "metadata": {},
   "outputs": [
    {
     "data": {
      "text/plain": [
       "['p', 'w', 's', 'k', 'i', 'l', 'l', 's']"
      ]
     },
     "execution_count": 12,
     "metadata": {},
     "output_type": "execute_result"
    }
   ],
   "source": [
    "[ i for i in 'pwskills' ]"
   ]
  },
  {
   "cell_type": "markdown",
   "id": "310677e1-111c-4bfe-8d31-10d0d7469bf1",
   "metadata": {},
   "source": [
    "Q8. Write a python program to check whether a given number is Palindrome or not using a while loop."
   ]
  },
  {
   "cell_type": "code",
   "execution_count": 13,
   "id": "b2cbc473-cc6d-4a2c-a785-2dbe0ac4b392",
   "metadata": {},
   "outputs": [
    {
     "name": "stdin",
     "output_type": "stream",
     "text": [
      "Enter a number: 51515\n"
     ]
    },
    {
     "name": "stdout",
     "output_type": "stream",
     "text": [
      "The number is palindrome\n"
     ]
    }
   ],
   "source": [
    "num=int(input(\"Enter a number:\"))\n",
    "temp=num\n",
    "rev=0\n",
    "while(num>0):\n",
    "    dig=num%10\n",
    "    rev=rev*10+dig\n",
    "    num=num//10\n",
    "if(temp==rev):\n",
    "    print(\"The number is palindrome\")\n",
    "else:\n",
    "    print(\"Not a palindrome\")"
   ]
  },
  {
   "cell_type": "markdown",
   "id": "1e6cd5c7-7ec3-4abf-a879-cad554847400",
   "metadata": {},
   "source": [
    "Q9. Write a code to print odd numbers from 1 to 100 using list comprehension.\n",
    "\n",
    "Note: Use a list comprehension to create a list from 1 to 100 and use another List comprehension to filter\n",
    "out odd numbers.\n"
   ]
  },
  {
   "cell_type": "code",
   "execution_count": 14,
   "id": "e04f9c05-88a9-4c30-9e05-0f82b9ed870b",
   "metadata": {},
   "outputs": [
    {
     "data": {
      "text/plain": [
       "[1,\n",
       " 3,\n",
       " 5,\n",
       " 7,\n",
       " 9,\n",
       " 11,\n",
       " 13,\n",
       " 15,\n",
       " 17,\n",
       " 19,\n",
       " 21,\n",
       " 23,\n",
       " 25,\n",
       " 27,\n",
       " 29,\n",
       " 31,\n",
       " 33,\n",
       " 35,\n",
       " 37,\n",
       " 39,\n",
       " 41,\n",
       " 43,\n",
       " 45,\n",
       " 47,\n",
       " 49,\n",
       " 51,\n",
       " 53,\n",
       " 55,\n",
       " 57,\n",
       " 59,\n",
       " 61,\n",
       " 63,\n",
       " 65,\n",
       " 67,\n",
       " 69,\n",
       " 71,\n",
       " 73,\n",
       " 75,\n",
       " 77,\n",
       " 79,\n",
       " 81,\n",
       " 83,\n",
       " 85,\n",
       " 87,\n",
       " 89,\n",
       " 91,\n",
       " 93,\n",
       " 95,\n",
       " 97,\n",
       " 99]"
      ]
     },
     "execution_count": 14,
     "metadata": {},
     "output_type": "execute_result"
    }
   ],
   "source": [
    "list1 = [i for i in (range(1,101))]\n",
    "[i for i in list1 if i%2==1]"
   ]
  },
  {
   "cell_type": "code",
   "execution_count": null,
   "id": "3ab8dcff-e3b4-41a1-8eaa-8b43f8c1112f",
   "metadata": {},
   "outputs": [],
   "source": []
  }
 ],
 "metadata": {
  "kernelspec": {
   "display_name": "Python 3 (ipykernel)",
   "language": "python",
   "name": "python3"
  },
  "language_info": {
   "codemirror_mode": {
    "name": "ipython",
    "version": 3
   },
   "file_extension": ".py",
   "mimetype": "text/x-python",
   "name": "python",
   "nbconvert_exporter": "python",
   "pygments_lexer": "ipython3",
   "version": "3.10.8"
  }
 },
 "nbformat": 4,
 "nbformat_minor": 5
}
