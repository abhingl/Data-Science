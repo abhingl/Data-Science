{
 "cells": [
  {
   "cell_type": "markdown",
   "id": "a663ab4d-607b-44f5-90c8-5a0b901b0075",
   "metadata": {},
   "source": [
    "Q1.  Explain with an example each when to use a for loop and a while loop."
   ]
  },
  {
   "cell_type": "code",
   "execution_count": 1,
   "id": "cef450c5-151e-4c01-8bb7-1ee6f6c4149a",
   "metadata": {},
   "outputs": [],
   "source": [
    "# For Loop\n",
    "# A for loop is a control flow statement that executes code for a predefined number of iterations.\n",
    "# The keyword used in this control flow statement is “for”. \n",
    "# When the number of iterations is already known, the for loop is used."
   ]
  },
  {
   "cell_type": "code",
   "execution_count": 1,
   "id": "154d7d5c-281b-4a2a-b3f6-7a49834c1399",
   "metadata": {},
   "outputs": [
    {
     "name": "stdout",
     "output_type": "stream",
     "text": [
      "1\n",
      "4\n",
      "9\n",
      "16\n",
      "25\n",
      "36\n"
     ]
    }
   ],
   "source": [
    "#Example of for loop\n",
    "l=[1,2,3,4,5,6]\n",
    "for i in l :\n",
    "    print(i*i)"
   ]
  },
  {
   "cell_type": "code",
   "execution_count": 3,
   "id": "e9367c71-8062-479c-a68d-4f59fe6b2f31",
   "metadata": {},
   "outputs": [],
   "source": [
    "# While Loop\n",
    "# A loop that runs a single statement or a set of statements for a given true condition.\n",
    "# This loop is represented by the keyword \"while.\" \n",
    "# When the number of iterations is unknown, a \"while\" loop is used. \n",
    "# The statement is repeated until the boolean value is false.\n",
    "# Because the condition is tested at the beginning of a while loop, it is also known as the pre-test loop."
   ]
  },
  {
   "cell_type": "code",
   "execution_count": 2,
   "id": "f92025eb-4c7c-43f7-8df9-6471ffc4b2d1",
   "metadata": {},
   "outputs": [
    {
     "name": "stdin",
     "output_type": "stream",
     "text": [
      "enter no 29\n"
     ]
    },
    {
     "name": "stdout",
     "output_type": "stream",
     "text": [
      "29 * 1 = 29\n",
      "29 * 2 = 58\n",
      "29 * 3 = 87\n",
      "29 * 4 = 116\n",
      "29 * 5 = 145\n",
      "29 * 6 = 174\n",
      "29 * 7 = 203\n",
      "29 * 8 = 232\n",
      "29 * 9 = 261\n",
      "29 * 10 = 290\n"
     ]
    }
   ],
   "source": [
    "#Example of while loop\n",
    "no=int(input('enter no'))\n",
    "i=1\n",
    "while i<=10:\n",
    "    result=no*i\n",
    "    print(no,\"*\",i,\"=\",result)\n",
    "    i=i+1"
   ]
  },
  {
   "cell_type": "markdown",
   "id": "75300edb-f790-419f-9050-b50717d88fff",
   "metadata": {},
   "source": [
    "Q2.  Write a python program to print the sum and product of the first 10 natural numbers using for\n",
    "and while loop."
   ]
  },
  {
   "cell_type": "code",
   "execution_count": 3,
   "id": "84178c9b-46a8-42b1-954b-439d855776a9",
   "metadata": {},
   "outputs": [
    {
     "name": "stdout",
     "output_type": "stream",
     "text": [
      "Sum of first 10 natural numbers= 55\n",
      "Product of first 10 natural numbers= 3628800\n"
     ]
    }
   ],
   "source": [
    "#program to add first 10 natural numbers using for loop\n",
    "l = list(range(1,11))\n",
    "total = 0\n",
    "product = 1\n",
    "for n in l :\n",
    "    total= total+n\n",
    "for n in l :\n",
    "    product= product*n\n",
    "print(\"Sum of first 10 natural numbers=\",total)\n",
    "print(\"Product of first 10 natural numbers=\",product)"
   ]
  },
  {
   "cell_type": "code",
   "execution_count": 4,
   "id": "1b27d1ff-129a-4aba-bbee-74d9d08fd7b0",
   "metadata": {},
   "outputs": [
    {
     "name": "stdout",
     "output_type": "stream",
     "text": [
      "Sum of first 10 natural numbers= 55\n",
      "Product of first 10 natural numbers= 3628800\n"
     ]
    }
   ],
   "source": [
    "#program to add first 10 natural numbers using while loop\n",
    "n = 1\n",
    "total = 0\n",
    "product = 1\n",
    "while n<=10 :\n",
    "    total = total+n\n",
    "    product = product *n\n",
    "    n= n+1\n",
    "print(\"Sum of first 10 natural numbers=\",total)\n",
    "print(\"Product of first 10 natural numbers=\",product)"
   ]
  },
  {
   "cell_type": "markdown",
   "id": "91b47f2d-1b87-48bb-abad-ce49b44d8528",
   "metadata": {},
   "source": [
    "Q3. Create a python program to compute the electricity bill for a household.\n",
    "\n",
    "The per-unit charges in rupees are as follows: For the first 100 units, the user will be charged Rs. 4.5 per\n",
    "unit, for the next 100 units, the user will be charged Rs. 6 per unit, and for the next 100 units, the user will\n",
    "be charged Rs. 10 per unit, After 300 units and above the user will be charged Rs. 20 per unit.\n",
    "\n",
    "\n",
    "You are required to take the units of electricity consumed in a month from the user as input.\n",
    "\n",
    "\n",
    "Your program must pass this test case: when the unit of electricity consumed by the user in a month is\n",
    "310, the total electricity bill should be 2250.\n"
   ]
  },
  {
   "cell_type": "code",
   "execution_count": 5,
   "id": "daff2395-f92c-4ac9-b4fd-72473349453e",
   "metadata": {},
   "outputs": [
    {
     "name": "stdin",
     "output_type": "stream",
     "text": [
      "Enter the Number of Units Consumed 310\n"
     ]
    },
    {
     "name": "stdout",
     "output_type": "stream",
     "text": [
      "Billed Amount is 2250.0\n"
     ]
    }
   ],
   "source": [
    "units = int(input(\"Enter the Number of Units Consumed\"))\n",
    "bill = 1\n",
    "if units<=100 :\n",
    "    bill = 4.5*units\n",
    "    print(\"Billed Amount is\",bill)\n",
    "elif units>100 and units<=200 :\n",
    "    bill = (4.5*100)+(6*(units-100))\n",
    "    print(\"Billed Amount is\",bill)\n",
    "elif units>200 and units<=300 :\n",
    "    bill = (4.5*100)+(6*100)+(10*(units-200))\n",
    "    print(\"Billed Amount is\",bill)\n",
    "elif units>300 :\n",
    "    bill = (4.5*100)+(6*100)+(10*100)+(20*(units-300))\n",
    "    print(\"Billed Amount is\",bill)"
   ]
  },
  {
   "cell_type": "markdown",
   "id": "c6b76d17-7c91-4fd5-b0c2-83260a292ea8",
   "metadata": {},
   "source": [
    "Q4. Create a list of numbers from 1 to 100. Use for loop and while loop to calculate the cube of each\n",
    "number and if the cube of that number is divisible by 4 or 5 then append that number in a list and print\n",
    "that list."
   ]
  },
  {
   "cell_type": "code",
   "execution_count": 6,
   "id": "4a2a7179-5e91-42a8-b911-8262bf615921",
   "metadata": {},
   "outputs": [
    {
     "name": "stdout",
     "output_type": "stream",
     "text": [
      "[2, 4, 5, 6, 8, 10, 12, 14, 15, 16, 18, 20, 22, 24, 25, 26, 28, 30, 32, 34, 35, 36, 38, 40, 42, 44, 45, 46, 48, 50, 52, 54, 55, 56, 58, 60, 62, 64, 65, 66, 68, 70, 72, 74, 75, 76, 78, 80, 82, 84, 85, 86, 88, 90, 92, 94, 95, 96, 98, 100]\n"
     ]
    }
   ],
   "source": [
    "#Q4_ using for loop\n",
    "l = list(range(1,101))\n",
    "number_list =[]\n",
    "cube_list =[]\n",
    "cube = 1\n",
    "for i in l :\n",
    "    cube = i**3\n",
    "    if cube%5==0 or cube%4==0 :\n",
    "        number_list.append(i)\n",
    "        #cube_list.append(cube)\n",
    "print(number_list)#to print number whose cube is divisible by 4,5\n",
    "#print(cube_list)#to print list of cubes that are disible by 4,5"
   ]
  },
  {
   "cell_type": "code",
   "execution_count": 7,
   "id": "8b067367-08a4-4d13-a384-d9b4f2ca2ac1",
   "metadata": {},
   "outputs": [
    {
     "name": "stdout",
     "output_type": "stream",
     "text": [
      "[2, 4, 5, 6, 8, 10, 12, 14, 15, 16, 18, 20, 22, 24, 25, 26, 28, 30, 32, 34, 35, 36, 38, 40, 42, 44, 45, 46, 48, 50, 52, 54, 55, 56, 58, 60, 62, 64, 65, 66, 68, 70, 72, 74, 75, 76, 78, 80, 82, 84, 85, 86, 88, 90, 92, 94, 95, 96, 98, 100]\n"
     ]
    }
   ],
   "source": [
    "#Q4_ using while loop\n",
    "number_list =[]\n",
    "cube_list =[]\n",
    "cube = 1\n",
    "i = 1\n",
    "while i<=100 :\n",
    "    cube = i**3\n",
    "    if cube%5==0 or cube%4==0 :\n",
    "        number_list.append(i)\n",
    "        #cube_list.append(cube)\n",
    "    i=i+1\n",
    "print(number_list)#to print number whose cube is divisible by 4,5\n",
    "#print(cube_list)#to print list of cubes that are disible by 4,5\n",
    "    "
   ]
  },
  {
   "cell_type": "markdown",
   "id": "e13d06ba-279e-45e3-a1ba-973fd98da6a6",
   "metadata": {},
   "source": [
    "Q5.  Write a program to filter count vowels in the below-given string.\n",
    "\n",
    "string = \"I want to become a data scientist\""
   ]
  },
  {
   "cell_type": "code",
   "execution_count": 8,
   "id": "444651d0-7db9-4e86-822b-6c3fdd1a4d93",
   "metadata": {},
   "outputs": [
    {
     "name": "stdout",
     "output_type": "stream",
     "text": [
      "['I', 'a', 'o', 'e', 'o', 'e', 'a', 'a', 'a', 'i', 'e', 'i']\n",
      "No of Vowels :- 12\n"
     ]
    }
   ],
   "source": [
    "string = \"I want to become a data scientist\"\n",
    "string_2 = []\n",
    "for s in string :\n",
    "    if s==\"a\" or s==\"e\" or s==\"i\" or s==\"o\" or s==\"u\" or s==\"A\" or s==\"E\" or s==\"I\" or s==\"O\" or s==\"U\":\n",
    "        string_2.append(s)\n",
    "print(string_2)\n",
    "print(\"No of Vowels :-\",len(string_2))\n",
    "        "
   ]
  },
  {
   "cell_type": "code",
   "execution_count": null,
   "id": "78177b8a-454f-4b1a-8292-1f5a1c59417e",
   "metadata": {},
   "outputs": [],
   "source": []
  }
 ],
 "metadata": {
  "kernelspec": {
   "display_name": "Python 3 (ipykernel)",
   "language": "python",
   "name": "python3"
  },
  "language_info": {
   "codemirror_mode": {
    "name": "ipython",
    "version": 3
   },
   "file_extension": ".py",
   "mimetype": "text/x-python",
   "name": "python",
   "nbconvert_exporter": "python",
   "pygments_lexer": "ipython3",
   "version": "3.10.8"
  }
 },
 "nbformat": 4,
 "nbformat_minor": 5
}
