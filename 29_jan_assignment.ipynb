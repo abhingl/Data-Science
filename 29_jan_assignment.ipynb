{
 "cells": [
  {
   "cell_type": "markdown",
   "id": "8f16e4e1-469c-4ba4-890e-e23bd2e64367",
   "metadata": {},
   "source": [
    "Q1. Who developed Python Programming Language?\n"
   ]
  },
  {
   "cell_type": "markdown",
   "id": "4c4697c8-d175-444b-b719-851f5a84886a",
   "metadata": {},
   "source": [
    "Ans. Python was developed by Guido Van Russom;a dutch programmer \n",
    "and first released on 20 february 1991"
   ]
  },
  {
   "cell_type": "markdown",
   "id": "0cd96edc-5da7-4a86-8302-3b0cad9f2ea5",
   "metadata": {},
   "source": [
    " Q.2 Which type of programming does Python support ?"
   ]
  },
  {
   "cell_type": "markdown",
   "id": "c988445d-b1fc-4fcf-9ed8-f601af462917",
   "metadata": {},
   "source": [
    "Ans. Python is a Multi-Paradigm programming Language which support structured programming,Object-Oriented programming,\n",
    "functional programming and procedural programming"
   ]
  },
  {
   "cell_type": "markdown",
   "id": "1ad3cc0a-ffc1-4358-a982-71840642c9dd",
   "metadata": {},
   "source": [
    "Q3. is Python case sensitive when dealing with identifiers ?"
   ]
  },
  {
   "cell_type": "markdown",
   "id": "ddeac4cc-ef08-4e95-abb4-abc560421c7a",
   "metadata": {},
   "source": [
    "Ans. Yes, Python is a case sensitive Language, It treates upper case and Lower case characters and identifiers differently"
   ]
  },
  {
   "cell_type": "markdown",
   "id": "8b5c7ad5-3076-4562-87f4-c6c9f9cff268",
   "metadata": {},
   "source": [
    "Q4. What is the Correct Extension of Python File ?"
   ]
  },
  {
   "cell_type": "markdown",
   "id": "cc57edf9-c053-4a0a-bf61-fd64225f08a7",
   "metadata": {},
   "source": [
    "Ans. \".py\" is the Default file extension for a python file."
   ]
  },
  {
   "cell_type": "markdown",
   "id": "d2ac1ec3-b589-4c42-82bb-9bc3a67c877c",
   "metadata": {},
   "source": [
    "Q5. Is python code Compiled or Interpreted ?"
   ]
  },
  {
   "cell_type": "markdown",
   "id": "9aab70e7-b6c4-4fbf-9ef3-ce5fa86a3489",
   "metadata": {},
   "source": [
    "Ans. Python programs are both compiled and Interpreted.\n",
    "When we run a Python code it first gets compiled and a byte code is generated; then\n",
    "the byte code is interpreted into machine language by Python Virtual Machine."
   ]
  },
  {
   "cell_type": "markdown",
   "id": "4359ff85-e4d6-4fa9-aa81-efdc4de4e2f0",
   "metadata": {},
   "source": [
    "Q6. Name a few blocks of codes used to define in Python language ?"
   ]
  },
  {
   "cell_type": "code",
   "execution_count": 2,
   "id": "05c34e84-009d-4aea-9ea7-901d27af8824",
   "metadata": {},
   "outputs": [
    {
     "name": "stdout",
     "output_type": "stream",
     "text": [
      "[1, 2, 3, 4, 5, 6, 7, 8, 9, 12.58, 78.5]\n",
      "['abhi', 'kumar', 'abc']\n"
     ]
    }
   ],
   "source": [
    "#Indentation is used to define a block of code in python\n",
    "#Example\n",
    "l5=[1,2,3,4,5,6,7,8,9,'abhi','kumar',12.58,78.5,'abc']\n",
    "l1_num=[]\n",
    "l2_str=[]\n",
    "for i in l5 :\n",
    "    if type(i)==int or type(i)==float :\n",
    "        l1_num.append(i)\n",
    "    else :\n",
    "        l2_str.append(i)\n",
    "print(l1_num)\n",
    "print(l2_str)"
   ]
  },
  {
   "cell_type": "markdown",
   "id": "7986d151-27c8-4f04-bc73-36ea43448593",
   "metadata": {},
   "source": [
    "Q7. State a character used to give single line comments in python ?"
   ]
  },
  {
   "cell_type": "markdown",
   "id": "e5910f6d-c071-424b-a564-1092fa15bf30",
   "metadata": {},
   "source": [
    "Ans. \"#\" is used for single line comments in Python."
   ]
  },
  {
   "cell_type": "markdown",
   "id": "a5308962-205a-4e06-8b23-2872eec2778e",
   "metadata": {},
   "source": [
    "Q8. Mention function which can help us to find the version of python that is currently being used ?"
   ]
  },
  {
   "cell_type": "markdown",
   "id": "f3fc8f8a-deb2-4484-8a03-fd8e9e11422a",
   "metadata": {},
   "source": [
    "Ans. here are some methods to find out the version of Python being used:\n",
    "\n",
    "from IDE or from cmd/terminal/powershell after calling python\n",
    "   \n",
    "1.import sys\n",
    " sys.version\n",
    "     \n",
    "2.from platform import python_version\n",
    " python_version()\n",
    " \n",
    "from cmd/terminal/powershell\n",
    "1.python -V\n",
    "   "
   ]
  },
  {
   "cell_type": "markdown",
   "id": "db940c8b-2b1c-4c17-b150-7adba2ab36c1",
   "metadata": {},
   "source": [
    "Q9.Python supports the creation of anonymous functions at runtime, using a construct called---"
   ]
  },
  {
   "cell_type": "markdown",
   "id": "f5dec2a3-e3da-4c61-8fc6-cdbf08d6208f",
   "metadata": {},
   "source": [
    "Ans. The lambda keyword is used to define an anonymous function in Python"
   ]
  },
  {
   "cell_type": "markdown",
   "id": "8a8d33e8-94e8-4c17-ba09-19bc495cc68a",
   "metadata": {},
   "source": [
    "Q10. What does pip stand for python?"
   ]
  },
  {
   "cell_type": "markdown",
   "id": "400bff83-b632-4e62-988b-b87a6468ab4a",
   "metadata": {},
   "source": [
    "Ans. Pip is a package-management system in Python and is used to install and manage software packages."
   ]
  },
  {
   "cell_type": "markdown",
   "id": "3b71f14c-dd5d-41e4-9b51-2f8d206542b0",
   "metadata": {},
   "source": [
    "Q11. Mention a few built-in functions in python?"
   ]
  },
  {
   "cell_type": "markdown",
   "id": "c98a0576-f98c-4872-aa84-4b4e894a5e07",
   "metadata": {},
   "source": [
    "Ans. list();len();type();print();input();bin();str();float();char();  etc"
   ]
  },
  {
   "cell_type": "markdown",
   "id": "8519bef8-e2e2-4bc0-aec6-7f6c9050a328",
   "metadata": {},
   "source": [
    "Q12. What is the maximum possible length of an identifier in Python?"
   ]
  },
  {
   "cell_type": "markdown",
   "id": "3f759da8-2538-4ac9-acdc-8c6806150bd6",
   "metadata": {},
   "source": [
    "Ans. 79 characters."
   ]
  },
  {
   "cell_type": "markdown",
   "id": "355dd8a3-0d2e-4263-a314-2c24af269ab7",
   "metadata": {},
   "source": [
    "Q13. What are the benefits of using Python?"
   ]
  },
  {
   "cell_type": "markdown",
   "id": "43c20ac9-86d4-4829-a161-55453fa8aaa2",
   "metadata": {},
   "source": [
    "Ans. Advantages: \n",
    "\n",
    "Presence of third-party modules \n",
    "\n",
    "Extensive support libraries(NumPy for numerical calculations, Pandas for data analytics, etc.) \n",
    "\n",
    "Open source and large active community base \n",
    "\n",
    "Versatile, Easy to read, learn and write\n",
    "\n",
    "User-friendly data structures \n",
    "\n",
    "High-level language \n",
    "\n",
    "Dynamically typed language(No need to mention data type based on the value assigned, it takes data type) \n",
    "\n",
    "Object-Oriented and Procedural  Programming language\n",
    "\n",
    "Portable and Interactive\n",
    "\n",
    "Ideal for prototypes – provide more functionality with less coding\n",
    "\n",
    "Highly Efficient(Python’s clean object-oriented design provides enhanced process control, and the language is equipped with excellent text processing and integration capabilities, as well as its own unit testing framework, which makes it more efficient.)\n",
    "\n",
    "Internet of Things(IoT) Opportunities\n",
    "\n",
    "Portable across Operating systems "
   ]
  },
  {
   "cell_type": "markdown",
   "id": "6a992c6b-77bc-4de0-9b44-afc0fa995696",
   "metadata": {},
   "source": [
    "Q14. How is memory managed in Python?"
   ]
  },
  {
   "cell_type": "markdown",
   "id": "38215113-140c-41ea-822a-6a3a06597558",
   "metadata": {},
   "source": [
    "Ans. Memory management in Python involves a private heap containing all Python objects and data structures. The management of this private heap is ensured internally by the Python memory manager. The Python memory manager has different components which deal with various dynamic storage management aspects, like sharing, segmentation, preallocation or caching.\n",
    "\n",
    "\n",
    "At the lowest level, a raw memory allocator ensures that there is enough room in the private heap for storing all Python-related data by interacting with the memory manager of the operating system. On top of the raw memory allocator, several object-specific allocators operate on the same heap and implement distinct memory management policies adapted to the peculiarities of every object type. For example, integer objects are managed differently within the heap than strings, tuples or dictionaries because integers imply different storage requirements and speed/space tradeoffs. The Python memory manager thus delegates some of the work to the object-specific allocators, but ensures that the latter operate within the bounds of the private heap."
   ]
  },
  {
   "cell_type": "markdown",
   "id": "d008ec7f-d646-4e7b-8f17-5be0dc875ddd",
   "metadata": {},
   "source": [
    "Q15. How to install Python on Windows and set path variables?"
   ]
  },
  {
   "cell_type": "markdown",
   "id": "b66718de-3868-48e2-bbc2-68f55e96373c",
   "metadata": {},
   "source": [
    "Ans. Step 1: Go to python.org\n",
    "\n",
    "     Step 2: Download the latest version of python installer available for windows\n",
    "     \n",
    "     Step 3: Follow the installation procedure,mark the option which says ADD PYTHON TO PATH during installation or we can add later \n",
    "     \n",
    "     Step 4: After installing, navigate to the intallation location and copy the path of BIN folder.\n",
    "     \n",
    "     Step 5: Setup the environmental variable by searching for environmental variables in windows search or by navigating to \n",
    "             ADVANCED SYSTEM SETTINGS>ENVIRONMENTAL VARIABLES\n",
    "             \n",
    "     Step 5: then under user variable or system variables select PATH and then click EDIT, then add a new path of bin folder which we copied earlier\n",
    "             and save it.\n",
    "             \n",
    "     Step 6: now install Jupyter Notebook using pip(latest versions only)\n",
    "     \n",
    "     Step 7: open Command Prompt,type pip install jupyterlab\n",
    "     \n",
    "     Step 8: After Installation Run Lab by Using Command jupyter-lab"
   ]
  },
  {
   "cell_type": "markdown",
   "id": "fb06b16e-9bd0-410f-ae77-c3b37d2bde2e",
   "metadata": {},
   "source": [
    "Q16. Is indentation required in python?"
   ]
  },
  {
   "cell_type": "markdown",
   "id": "ae0aa9d2-b280-4ec7-9346-d8efa8d973c3",
   "metadata": {},
   "source": [
    "Ans. yes, Indentation is mandatory in python to define the blocks of statements\n",
    "    if Indentation is not done properly a error will be generated."
   ]
  },
  {
   "cell_type": "code",
   "execution_count": null,
   "id": "7dbfd391-159e-4c3f-8070-309946ae46f1",
   "metadata": {},
   "outputs": [],
   "source": []
  }
 ],
 "metadata": {
  "kernelspec": {
   "display_name": "Python 3 (ipykernel)",
   "language": "python",
   "name": "python3"
  },
  "language_info": {
   "codemirror_mode": {
    "name": "ipython",
    "version": 3
   },
   "file_extension": ".py",
   "mimetype": "text/x-python",
   "name": "python",
   "nbconvert_exporter": "python",
   "pygments_lexer": "ipython3",
   "version": "3.10.8"
  }
 },
 "nbformat": 4,
 "nbformat_minor": 5
}
