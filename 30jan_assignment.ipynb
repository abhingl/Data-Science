{
 "cells": [
  {
   "cell_type": "markdown",
   "id": "0587aaf2-3307-4beb-9050-2d733a0962cb",
   "metadata": {},
   "source": [
    "Q1. write a program to accept percentage from user display the grades\n",
    "above 90=A\n",
    "\n",
    "80 to 90=B\n",
    "\n",
    "60 to 80=C\n",
    "\n",
    "below 60=D"
   ]
  },
  {
   "cell_type": "code",
   "execution_count": 7,
   "id": "bf2c6390-7967-427b-9352-749a6c3b6fd5",
   "metadata": {},
   "outputs": [
    {
     "name": "stdin",
     "output_type": "stream",
     "text": [
      "Enter Percentage 105\n"
     ]
    },
    {
     "name": "stdout",
     "output_type": "stream",
     "text": [
      "INVALID INPUT\n"
     ]
    }
   ],
   "source": [
    "marks=float(input(\"Enter Percentage\"))\n",
    "if marks<= 0 or marks >100:\n",
    "    print(\"INVALID INPUT\")\n",
    "elif marks>90 and marks <=100:\n",
    "    print(\"Congratulations You got A GRADE\")\n",
    "elif marks > 80 and marks <= 90:\n",
    "    print(\"Congratulations You got B GRADE\")\n",
    "elif marks >= 60 and marks <= 80:\n",
    "    print(\"Congratulations You got C GRADE\")\n",
    "else :\n",
    "    print(\"Congratulations You got D GRADE\")\n"
   ]
  },
  {
   "cell_type": "markdown",
   "id": "20f1ae9f-99e2-405c-bf92-67b93efe082b",
   "metadata": {},
   "source": [
    "Q2. write a program to accept tthe cost price of a bike and display the road tax to be paid according to the following criteria\n",
    "\n",
    "cost<100000;tax=15%\n",
    "\n",
    "cost between 50000 and 100000;tax=10%\n",
    "\n",
    "cost<50000;tax=5%"
   ]
  },
  {
   "cell_type": "code",
   "execution_count": 32,
   "id": "742f38b1-a47b-4300-bec5-aa071a012e84",
   "metadata": {},
   "outputs": [
    {
     "name": "stdin",
     "output_type": "stream",
     "text": [
      "Cost of Bike -45\n"
     ]
    },
    {
     "name": "stdout",
     "output_type": "stream",
     "text": [
      "Invalid Entry\n"
     ]
    }
   ],
   "source": [
    "cost = float(input(\"Cost of Bike\"))\n",
    "if cost <=0:\n",
    "    print(\"Invalid Entry\")\n",
    "elif cost >100000 :\n",
    "    print(\"Tax is 15%\")\n",
    "    tax= 15*cost/100\n",
    "    print(\"Tax To be paid\",tax)\n",
    "elif cost >50000 and cost <=100000 :\n",
    "    print(\"Tax is 10%\")\n",
    "    tax= 10*cost/100\n",
    "    print(\"Tax To be paid\",tax)\n",
    "elif cost <=50000 :\n",
    "    print(\"Tax is 5%\")\n",
    "    tax= 5*cost/100\n",
    "    print(\"Tax To be paid\",tax)"
   ]
  },
  {
   "cell_type": "markdown",
   "id": "57ea1907-342a-4b3e-aaeb-245ee13303dc",
   "metadata": {},
   "source": [
    "Q3. accept any city from user and display monuments of the city\n",
    "\n",
    "delhi Red fort\n",
    "\n",
    "agra Taj mahal\n",
    "\n",
    "jaipur jal mahal"
   ]
  },
  {
   "cell_type": "code",
   "execution_count": 16,
   "id": "382ad4d0-ba72-47e9-965f-bd57fc6e8850",
   "metadata": {},
   "outputs": [
    {
     "name": "stdin",
     "output_type": "stream",
     "text": [
      "Enter City Name delhi\n"
     ]
    },
    {
     "name": "stdout",
     "output_type": "stream",
     "text": [
      "Monuments in Delhi :- ['Red Fort', 'Qutub Minar']\n"
     ]
    }
   ],
   "source": [
    "delhi =[\"Red Fort\",\"Qutub Minar\"]\n",
    "agra = [\"Taj Mahal\"]\n",
    "jaipur = [\"Jal Mahal\"]\n",
    "city = input(\"Enter City Name\")\n",
    "if city == 'delhi'or city == 'DELHI' or city ==  'Delhi' :\n",
    "    print (\"Monuments in Delhi :-\",delhi)\n",
    "elif city == \"Agra\" or city == \"AGRA\" or city == \"agra\":\n",
    "    print(\"Monuments in Agra :-\",agra)\n",
    "elif city == \"Jaipur\" or city == \"JAIPUR\" or city == \"jaipur\":\n",
    "    print(\"Monuments in Jaipur :-\",jaipur)\n",
    "else :\n",
    "    print(\"Sorry!\",city, \"Not In Our Database\")"
   ]
  },
  {
   "cell_type": "markdown",
   "id": "bfd93a10-79dd-40d7-a893-a1f5a6c4db02",
   "metadata": {},
   "source": [
    "Q4. check how many time a number can be devided by 3 before it is less than or equals to 10 "
   ]
  },
  {
   "cell_type": "code",
   "execution_count": 67,
   "id": "72885c39-b529-4753-9e1d-a8b74d2e8a75",
   "metadata": {},
   "outputs": [
    {
     "name": "stdin",
     "output_type": "stream",
     "text": [
      "enter no 98\n"
     ]
    },
    {
     "data": {
      "text/plain": [
       "3"
      ]
     },
     "execution_count": 67,
     "metadata": {},
     "output_type": "execute_result"
    }
   ],
   "source": [
    "n= float(input(\"enter no\"))\n",
    "count = 0\n",
    "while n > 10:\n",
    "    n = n / 3\n",
    "    count = count+1\n",
    "count"
   ]
  },
  {
   "cell_type": "markdown",
   "id": "37096532-d7e3-44fa-8570-1f0b37884ca5",
   "metadata": {},
   "source": [
    "Q5. Why and when to use while loop in python.give a detailed discription with example ?\n"
   ]
  },
  {
   "cell_type": "code",
   "execution_count": 2,
   "id": "4e459765-cf64-4c9a-aeb8-fde8e2a50e8c",
   "metadata": {},
   "outputs": [
    {
     "name": "stdout",
     "output_type": "stream",
     "text": [
      "5\n",
      "10\n",
      "15\n",
      "20\n",
      "25\n",
      "30\n",
      "35\n",
      "40\n",
      "45\n",
      "50\n"
     ]
    }
   ],
   "source": [
    "# When the number of iterations is unknown, a \"while\" loop is used. The statement is repeated until the boolean value is false.\n",
    "# Because the condition is tested at the beginning of a while loop, it is also known as the pre-test loop.\n",
    "\n",
    "#example\n",
    "\n",
    "a=5\n",
    "while a <=50 :\n",
    "    print(a)\n",
    "    a=a+5"
   ]
  },
  {
   "cell_type": "markdown",
   "id": "a162fd09-0e10-47a8-9882-f7e32f37481b",
   "metadata": {},
   "source": [
    "Q6. use nested while loop to print 3 different patterns"
   ]
  },
  {
   "cell_type": "code",
   "execution_count": 65,
   "id": "4f09ccc6-809a-4beb-869f-ac4827f378aa",
   "metadata": {},
   "outputs": [
    {
     "name": "stdout",
     "output_type": "stream",
     "text": [
      "1 2 3 \n",
      "2 4 6 \n",
      "3 6 9 \n",
      "4 8 12 \n"
     ]
    }
   ],
   "source": [
    "#Ans. \n",
    "#1.\n",
    "i = 1\n",
    "while i <= 4 :\n",
    "    j = 1\n",
    "    while  j <= 3 :\n",
    "        print(j*i, end=\" \")\n",
    "        j += 1\n",
    "    print()\n",
    "    i += 1"
   ]
  },
  {
   "cell_type": "code",
   "execution_count": 51,
   "id": "40ed8e5b-8086-4995-80bf-af446e3b14a1",
   "metadata": {},
   "outputs": [
    {
     "name": "stdout",
     "output_type": "stream",
     "text": [
      "1 \n",
      "1 2 \n",
      "1 2 3 \n",
      "1 2 3 4 \n",
      "1 2 3 4 5 \n",
      "1 2 3 4 5 6 \n"
     ]
    }
   ],
   "source": [
    "#2.\n",
    "i = 1\n",
    "while i<7 :\n",
    "    j = 1\n",
    "    while j<=i :\n",
    "        print(j,end=\" \")\n",
    "        j=j+1\n",
    "    print(\"\")\n",
    "    i=i+1"
   ]
  },
  {
   "cell_type": "code",
   "execution_count": 68,
   "id": "8d3ef1dd-3996-4aed-b311-c5f3cd157f99",
   "metadata": {},
   "outputs": [
    {
     "name": "stdout",
     "output_type": "stream",
     "text": [
      "0 \n",
      "0 1 \n",
      "\n",
      "0 \n",
      "0 2 \n",
      "0 4 8 \n",
      "\n",
      "0 \n",
      "0 3 \n",
      "0 6 12 \n",
      "0 9 18 27 \n",
      "\n",
      "0 \n",
      "0 4 \n",
      "0 8 16 \n",
      "0 12 24 36 \n",
      "0 16 32 48 64 \n",
      "\n"
     ]
    }
   ],
   "source": [
    "#3.\n",
    "i = 1\n",
    "while i <= 4 :\n",
    "    j = 0\n",
    "    while  j <= i :\n",
    "        k = 0\n",
    "        while  k <= j :\n",
    "            print(i*j*k, end=\" \")\n",
    "            k += 1\n",
    "        print()\n",
    "        j += 1\n",
    "    print()\n",
    "    i += 1"
   ]
  },
  {
   "cell_type": "markdown",
   "id": "30ffbee0-739c-48fa-bed1-d9adbb2f7082",
   "metadata": {},
   "source": [
    "Q7. Reverse a while loop to display  numbers from 10 to 1"
   ]
  },
  {
   "cell_type": "code",
   "execution_count": 16,
   "id": "ec074b54-f41a-4701-9af1-7057049cde32",
   "metadata": {},
   "outputs": [
    {
     "data": {
      "text/plain": [
       "[10, 9, 8, 7, 6, 5, 4, 3, 2, 1]"
      ]
     },
     "execution_count": 16,
     "metadata": {},
     "output_type": "execute_result"
    }
   ],
   "source": [
    "#Ans7\n",
    "\n",
    "list1 = [1,2,3,4,5,6,7,8,9,10]\n",
    "list2=[]\n",
    "\n",
    "counter = len(list1)-1\n",
    "\n",
    "while counter >= 0:\n",
    "    list2.append(list1[counter])\n",
    "    counter = counter-1\n",
    "second_list\n"
   ]
  },
  {
   "cell_type": "markdown",
   "id": "c1f16197-a86f-4429-af8e-822141c3803e",
   "metadata": {},
   "source": [
    "Q8. Reverse a while loop to display numbers from 10 to 1"
   ]
  },
  {
   "cell_type": "code",
   "execution_count": 15,
   "id": "6fdbe30a-857f-430e-b9a5-e40dd7733c5f",
   "metadata": {},
   "outputs": [
    {
     "name": "stdout",
     "output_type": "stream",
     "text": [
      "10\n",
      "9\n",
      "8\n",
      "7\n",
      "6\n",
      "5\n",
      "4\n",
      "3\n",
      "2\n",
      "1\n"
     ]
    }
   ],
   "source": [
    "#Ans8\n",
    "num = 10\n",
    "while num>0 :\n",
    "    print(num)\n",
    "    num = num-1"
   ]
  },
  {
   "cell_type": "code",
   "execution_count": null,
   "id": "78f1d321-2cdc-4c46-b95e-aa2062530c28",
   "metadata": {},
   "outputs": [],
   "source": []
  }
 ],
 "metadata": {
  "kernelspec": {
   "display_name": "Python 3 (ipykernel)",
   "language": "python",
   "name": "python3"
  },
  "language_info": {
   "codemirror_mode": {
    "name": "ipython",
    "version": 3
   },
   "file_extension": ".py",
   "mimetype": "text/x-python",
   "name": "python",
   "nbconvert_exporter": "python",
   "pygments_lexer": "ipython3",
   "version": "3.10.8"
  }
 },
 "nbformat": 4,
 "nbformat_minor": 5
}
